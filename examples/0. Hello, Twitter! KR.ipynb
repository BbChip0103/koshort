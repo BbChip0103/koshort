{
 "cells": [
  {
   "cell_type": "code",
   "execution_count": 1,
   "metadata": {},
   "outputs": [],
   "source": [
    "import sys\n",
    "import os\n",
    "sys.path.insert(0, os.path.abspath('..'))\n",
    "from koshort.stream import TwitterStreamer"
   ]
  },
  {
   "cell_type": "markdown",
   "metadata": {},
   "source": [
    "# TwitterStreamer 사용해보기"
   ]
  },
  {
   "cell_type": "code",
   "execution_count": 2,
   "metadata": {},
   "outputs": [
    {
     "name": "stdout",
     "output_type": "stream",
     "text": [
      "Namespace(access_token=None, access_token_secret=None, consumer_key=None, consumer_secret=None, filter_retweets=False, output_as_onefile=False, output_extension='txt', output_prefix='tweet', remove_links=False, remove_mentions=False, tweet_limits=1000000, verbose=False)\n"
     ]
    }
   ],
   "source": [
    "# 데이터 저장 경로와 받아보고 싶은 트윗에 포함될 단어.\n",
    "app = TwitterStreamer(\"data/\", [\"가\",\"나\",\"다\",\"라\"], async=False)  # async 추가 시 크롤링중에 다른 동작이 가능\n",
    "# 사용가능한 옵션\n",
    "print(app.args)"
   ]
  },
  {
   "cell_type": "markdown",
   "metadata": {},
   "source": [
    "## Crawling에 사용할 옵션 설정"
   ]
  },
  {
   "cell_type": "code",
   "execution_count": 3,
   "metadata": {},
   "outputs": [],
   "source": [
    "app.args.consumer_key = ''\n",
    "app.args.consumer_secret = ''\n",
    "app.args.access_token = ''\n",
    "app.args.access_token_secret = ''\n",
    "app.args.filter_retweets=True\n",
    "app.args.output_extension='twt'\n",
    "app.args.output_prefix=''\n",
    "app.args.remove_links=True\n",
    "app.args.remove_mentions=True\n",
    "app.args.tweet_limits=10\n",
    "app.args.verbose=True"
   ]
  },
  {
   "cell_type": "markdown",
   "metadata": {},
   "source": [
    "## app 초기화 및 실행"
   ]
  },
  {
   "cell_type": "code",
   "execution_count": 4,
   "metadata": {},
   "outputs": [
    {
     "name": "stdout",
     "output_type": "stream",
     "text": [
      "2 오늘ㄴ셤끗나면 파판안하고 그림그려야지 컴션 다 끗내고싶어 낼까지\n",
      "1  다 #더쇼 #빅스LR 투표\n",
      "2 월요일에 브레이커스에 가서 기점이를 만났어!!일도 잘하고 다 완벽해!!!!!!!!!!\n",
      "3  죠아욥 ㅠ 근데 나 돈이없어서 s나 a가 학생할인되길래 할건데 괭ㅌ찮아?\n",
      "2 나 지금 드려야할 깊티가 5개인데 월급이 안들어옴 ㅅㅂ\n",
      "4 6. 비슷 한 뜻을 가진 단어 들을 사전으로 다 열람 해 본 후 선택해서 쓰는 소소한 재미를 즐기기도 합니다. 아직 공개하지 않은 글 이지만 아주 예전부터 쓰고 싶어서 저장만 해 둔 필연 이라는 글이 있는데… \n",
      "1  와악 나 루날님한테 물어볼 거 많을 것 같아요 ㅇ&lt;-&lt;\n",
      "2  저는 치킨은 다 좋아해요\n",
      "치느님 앞에서 감히 취향을 논하다니 그거슨 넘 건방진 것 '^'\n",
      "1  와 민현풀셋이시네요😙 저는 다 교환으로 꾸렸죠...\n",
      "1 ? 이게 다 무슨소리야 씹뽤\n"
     ]
    }
   ],
   "source": [
    "app.create_listener()\n",
    "app.run()"
   ]
  },
  {
   "cell_type": "code",
   "execution_count": null,
   "metadata": {
    "collapsed": true
   },
   "outputs": [],
   "source": []
  }
 ],
 "metadata": {
  "kernelspec": {
   "display_name": "Python 3",
   "language": "python",
   "name": "python3"
  },
  "language_info": {
   "codemirror_mode": {
    "name": "ipython",
    "version": 3
   },
   "file_extension": ".py",
   "mimetype": "text/x-python",
   "name": "python",
   "nbconvert_exporter": "python",
   "pygments_lexer": "ipython3",
   "version": "3.6.2"
  }
 },
 "nbformat": 4,
 "nbformat_minor": 2
}
